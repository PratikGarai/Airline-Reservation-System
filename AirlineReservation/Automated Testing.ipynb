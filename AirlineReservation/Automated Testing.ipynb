{
 "cells": [
  {
   "cell_type": "code",
   "execution_count": 10,
   "metadata": {},
   "outputs": [],
   "source": [
    "from selenium import webdriver\n",
    "from selenium.webdriver.common.by import By\n",
    "from selenium.webdriver.common.keys import Keys\n",
    "from selenium.webdriver.support.ui import WebDriverWait\n",
    "from selenium.webdriver.support.expected_conditions import presence_of_element_located"
   ]
  },
  {
   "cell_type": "code",
   "execution_count": 18,
   "metadata": {},
   "outputs": [],
   "source": [
    "driver =  webdriver.Firefox()\n",
    "#driver  = webdriver.Chrome()"
   ]
  },
  {
   "cell_type": "markdown",
   "metadata": {},
   "source": [
    "<h3>Test 1</h3>\n",
    "Conditions : Distinct source and destination<br>\n",
    "Expected : Success"
   ]
  },
  {
   "cell_type": "code",
   "execution_count": 26,
   "metadata": {},
   "outputs": [
    {
     "name": "stdout",
     "output_type": "stream",
     "text": [
      "Test passed\n"
     ]
    }
   ],
   "source": [
    "driver.get(\"http://localhost:8000\")\n",
    "element = WebDriverWait(driver, 10).until(lambda x: x.find_element(By.CSS_SELECTOR,\"select#id_destination\"))\n",
    "\n",
    "source = driver.find_element(By.CSS_SELECTOR,\"select#id_source\")\n",
    "destination = driver.find_element(By.CSS_SELECTOR,\"select#id_destination\")\n",
    "button = driver.find_element(By.CSS_SELECTOR,\"input.form-control:nth-child(4)\")\n",
    "source.send_keys(\"pakistan\")\n",
    "destination.send_keys(\"india\")\n",
    "button.click()\n",
    "\n",
    "#checking for errors\n",
    "try :\n",
    "    error = driver.find_element(By.CSS_SELECTOR,\"html body div.container.main-body-block div.error-block\")\n",
    "    print(\"Test failed\")\n",
    "except:\n",
    "    print(\"Test passed\")"
   ]
  },
  {
   "cell_type": "markdown",
   "metadata": {},
   "source": [
    "<h3>Test 2</h3>\n",
    "Conditions : Same source and destination<br>\n",
    "Expected : Faliure"
   ]
  },
  {
   "cell_type": "code",
   "execution_count": 27,
   "metadata": {},
   "outputs": [
    {
     "name": "stdout",
     "output_type": "stream",
     "text": [
      "Test failed\n"
     ]
    }
   ],
   "source": [
    "driver.get(\"http://localhost:8000\")\n",
    "element = WebDriverWait(driver, 10).until(lambda x: x.find_element(By.CSS_SELECTOR,\"select#id_destination\"))\n",
    "\n",
    "source = driver.find_element(By.CSS_SELECTOR,\"select#id_source\")\n",
    "destination = driver.find_element(By.CSS_SELECTOR,\"select#id_destination\")\n",
    "button = driver.find_element(By.CSS_SELECTOR,\"input.form-control:nth-child(4)\")\n",
    "source.send_keys(\"france\")\n",
    "destination.send_keys(\"france\")\n",
    "button.click()\n",
    "\n",
    "#checking for errors\n",
    "try :\n",
    "    error = driver.find_element(By.CSS_SELECTOR,\"html body div.container.main-body-block div.error-block\")\n",
    "    print(\"Test failed\")\n",
    "except:\n",
    "    print(\"Test passed\")"
   ]
  },
  {
   "cell_type": "code",
   "execution_count": null,
   "metadata": {},
   "outputs": [],
   "source": []
  }
 ],
 "metadata": {
  "kernelspec": {
   "display_name": "Python 3",
   "language": "python",
   "name": "python3"
  },
  "language_info": {
   "codemirror_mode": {
    "name": "ipython",
    "version": 3
   },
   "file_extension": ".py",
   "mimetype": "text/x-python",
   "name": "python",
   "nbconvert_exporter": "python",
   "pygments_lexer": "ipython3",
   "version": "3.8.5"
  }
 },
 "nbformat": 4,
 "nbformat_minor": 4
}

{
 "cells": [
  {
   "cell_type": "code",
   "execution_count": 1,
   "metadata": {},
   "outputs": [],
   "source": [
    "from selenium import webdriver\n",
    "from selenium.webdriver.common.by import By\n",
    "from selenium.webdriver.common.keys import Keys\n",
    "from selenium.webdriver.support.ui import WebDriverWait\n",
    "from selenium.webdriver.support import expected_conditions as EC"
   ]
  },
  {
   "cell_type": "code",
   "execution_count": 8,
   "metadata": {},
   "outputs": [],
   "source": [
    "driver =  webdriver.Firefox()\n",
    "#driver  = webdriver.Chrome()"
   ]
  },
  {
   "cell_type": "markdown",
   "metadata": {},
   "source": [
    "<h3>Test 1</h3>\n",
    "Conditions : Distinct source and destination<br>\n",
    "Expected : Success"
   ]
  },
  {
   "cell_type": "code",
   "execution_count": 3,
   "metadata": {},
   "outputs": [
    {
     "name": "stdout",
     "output_type": "stream",
     "text": [
      "Expected : Success\n",
      "Got      : Success\n",
      "Test passed\n"
     ]
    }
   ],
   "source": [
    "driver.delete_all_cookies();\n",
    "driver.get(\"http://localhost:8000\")\n",
    "element = WebDriverWait(driver, 30).until(EC.presence_of_element_located((By.CSS_SELECTOR,\"input.form-control:nth-child(4)\")))\n",
    "\n",
    "source = driver.find_element(By.CSS_SELECTOR,\"select#id_source\")\n",
    "destination = driver.find_element(By.CSS_SELECTOR,\"select#id_destination\")\n",
    "button = driver.find_element(By.CSS_SELECTOR,\"input.form-control:nth-child(4)\")\n",
    "source.send_keys(\"pakistan\")\n",
    "destination.send_keys(\"india\")\n",
    "button.click()\n",
    "\n",
    "print(\"Expected : Success\")\n",
    "#checking for errors\n",
    "try :\n",
    "    error = driver.find_element(By.CSS_SELECTOR,\"div.main-body-block div.error-block\")\n",
    "    print(\"Got      : Error\")\n",
    "    print(\"Test failed\")\n",
    "except:\n",
    "    print(\"Got      : Success\")\n",
    "    print(\"Test passed\")"
   ]
  },
  {
   "cell_type": "markdown",
   "metadata": {},
   "source": [
    "<h3>Test 2</h3>\n",
    "Conditions : Same source and destination<br>\n",
    "Expected : Faliure"
   ]
  },
  {
   "cell_type": "code",
   "execution_count": 4,
   "metadata": {},
   "outputs": [
    {
     "name": "stdout",
     "output_type": "stream",
     "text": [
      "Expected : Error\n",
      "Got      : Error\n",
      "Test passed\n"
     ]
    }
   ],
   "source": [
    "driver.delete_all_cookies();\n",
    "driver.get(\"http://localhost:8000\")\n",
    "element = WebDriverWait(driver, 30).until(EC.presence_of_element_located((By.CSS_SELECTOR,\"input.form-control:nth-child(4)\")))\n",
    "\n",
    "source = driver.find_element(By.CSS_SELECTOR,\"select#id_source\")\n",
    "destination = driver.find_element(By.CSS_SELECTOR,\"select#id_destination\")\n",
    "button = driver.find_element(By.CSS_SELECTOR,\"input.form-control:nth-child(4)\")\n",
    "source.send_keys(\"india\")\n",
    "destination.send_keys(\"india\")\n",
    "button.click()\n",
    "\n",
    "print(\"Expected : Error\")\n",
    "#checking for errors\n",
    "try :\n",
    "    error = driver.find_element(By.CSS_SELECTOR,\"div.main-body-block div.error-block\")\n",
    "    print(\"Got      : Error\")\n",
    "    print(\"Test passed\")\n",
    "except:\n",
    "    print(\"Got      : Success\")\n",
    "    print(\"Test failed\")"
   ]
  },
  {
   "cell_type": "markdown",
   "metadata": {},
   "source": [
    "<h3>Test 3</h3>\n",
    "Conditions : Correct Registration<br>\n",
    "Expected : Success"
   ]
  },
  {
   "cell_type": "code",
   "execution_count": null,
   "metadata": {},
   "outputs": [],
   "source": [
    "import time\n",
    "driver.delete_all_cookies();\n",
    "driver.get(\"http://localhost:8000/accounts/login\")\n",
    "\n",
    "element = WebDriverWait(driver, 30).until(EC.presence_of_element_located((By.CSS_SELECTOR,\"input.form-control:nth-child(4)\")))\n",
    "name = driver.find_element(By.CSS_SELECTOR,\"input#id_username\")\n",
    "passwd = driver.find_element(By.CSS_SELECTOR,\"input#id_password\")\n",
    "email = driver.find_element(By.CSS_SELECTOR,\"input#id_email\")\n",
    "name.send_keys(\"user\"+str(time.time()))\n",
    "passwd.send_keys(\"pratik\")\n",
    "email.send_keys()\n",
    "button = driver.find_element(By.CSS_SELECTOR,\"input.form-control:nth-child(4)\")\n",
    "button.click()\n",
    "\n",
    "print(\"Expected : Success\")\n",
    "#checking for errors\n",
    "try :\n",
    "    error = driver.find_element(By.CSS_SELECTOR,\"div.main-body-block div.error-block\")\n",
    "    print(\"Got      : Error\")\n",
    "    print(\"Test failed\")\n",
    "except:\n",
    "    print(\"Got      : Success\")\n",
    "    print(\"Test passed\")"
   ]
  },
  {
   "cell_type": "markdown",
   "metadata": {},
   "source": [
    "<h3>Test 4</h3>\n",
    "Conditions : Wrong Registration<br>\n",
    "Expected : Success"
   ]
  },
  {
   "cell_type": "code",
   "execution_count": null,
   "metadata": {},
   "outputs": [],
   "source": []
  },
  {
   "cell_type": "markdown",
   "metadata": {},
   "source": [
    "<h3>Test 5</h3>\n",
    "Conditions : Correct Login<br>\n",
    "Expected : Success"
   ]
  },
  {
   "cell_type": "code",
   "execution_count": 12,
   "metadata": {},
   "outputs": [
    {
     "name": "stdout",
     "output_type": "stream",
     "text": [
      "Expected : Success\n",
      "Got      : Success\n",
      "Test passed\n"
     ]
    }
   ],
   "source": [
    "driver.delete_all_cookies();\n",
    "driver.get(\"http://localhost:8000/accounts/login\")\n",
    "\n",
    "element = WebDriverWait(driver, 30).until(EC.presence_of_element_located((By.CSS_SELECTOR,\"input.form-control:nth-child(4)\")))\n",
    "name = driver.find_element(By.CSS_SELECTOR,\"input#id_username\")\n",
    "passwd = driver.find_element(By.CSS_SELECTOR,\"input#id_password\")\n",
    "name.send_keys(\"pratik\")\n",
    "passwd.send_keys(\"pratik\")\n",
    "button = driver.find_element(By.CSS_SELECTOR,\"input.form-control:nth-child(4)\")\n",
    "button.click()\n",
    "\n",
    "print(\"Expected : Success\")\n",
    "#checking for errors\n",
    "try :\n",
    "    error = driver.find_element(By.CSS_SELECTOR,\"div.main-body-block div.error-block\")\n",
    "    print(\"Got      : Error\")\n",
    "    print(\"Test failed\")\n",
    "except:\n",
    "    print(\"Got      : Success\")\n",
    "    print(\"Test passed\")"
   ]
  },
  {
   "cell_type": "markdown",
   "metadata": {},
   "source": [
    "<h3>Test 6</h3>\n",
    "Conditions : False Login<br>\n",
    "Expected : Error"
   ]
  },
  {
   "cell_type": "code",
   "execution_count": 13,
   "metadata": {},
   "outputs": [
    {
     "name": "stdout",
     "output_type": "stream",
     "text": [
      "Expected : Error\n",
      "Got      : Error\n",
      "Test passed\n"
     ]
    }
   ],
   "source": [
    "driver.delete_all_cookies();\n",
    "driver.get(\"http://localhost:8000/accounts/login\")\n",
    "\n",
    "element = WebDriverWait(driver, 30).until(EC.presence_of_element_located((By.CSS_SELECTOR,\"input.form-control:nth-child(4)\")))\n",
    "name = driver.find_element(By.CSS_SELECTOR,\"input#id_username\")\n",
    "passwd = driver.find_element(By.CSS_SELECTOR,\"input#id_password\")\n",
    "name.send_keys(\"pratik\")\n",
    "passwd.send_keys(\"wrong password\")\n",
    "button = driver.find_element(By.CSS_SELECTOR,\"input.form-control:nth-child(4)\")\n",
    "button.click()\n",
    "\n",
    "print(\"Expected : Error\")\n",
    "#checking for errors\n",
    "try :\n",
    "    error = driver.find_element(By.CSS_SELECTOR,\"div.main-body-block div.error-block\")\n",
    "    print(\"Got      : Error\")\n",
    "    print(\"Test passed\")\n",
    "except:\n",
    "    print(\"Got      : Success\")\n",
    "    print(\"Test failed\")"
   ]
  },
  {
   "cell_type": "markdown",
   "metadata": {},
   "source": [
    "<h3>Test 7</h3>\n",
    "Conditions : Standard flight booking<br>\n",
    "Expected : Success"
   ]
  },
  {
   "cell_type": "code",
   "execution_count": 5,
   "metadata": {},
   "outputs": [
    {
     "name": "stdout",
     "output_type": "stream",
     "text": [
      "Expected : Success\n",
      "Got      : Success\n",
      "Test passed\n"
     ]
    }
   ],
   "source": [
    "driver.delete_all_cookies();\n",
    "driver.get(\"http://localhost:8000\")\n",
    "element = WebDriverWait(driver, 30).until(EC.presence_of_element_located((By.CSS_SELECTOR,\"input.form-control:nth-child(4)\")))\n",
    "\n",
    "source = driver.find_element(By.CSS_SELECTOR,\"select#id_source\")\n",
    "destination = driver.find_element(By.CSS_SELECTOR,\"select#id_destination\")\n",
    "button = driver.find_element(By.CSS_SELECTOR,\"input.form-control:nth-child(4)\")\n",
    "source.send_keys(\"pakistan\")\n",
    "destination.send_keys(\"india\")\n",
    "button.click()\n",
    "\n",
    "element = WebDriverWait(driver, 30).until(EC.presence_of_element_located((By.CSS_SELECTOR,\"div.main-body-block div.flight-div a.btn.btn-success\")))\n",
    "book_button = driver.find_element(By.CSS_SELECTOR,\"div.main-body-block div.flight-div a.btn.btn-success\")\n",
    "txt = driver.find_element(By.CSS_SELECTOR,\"div.flight-div:nth-child(1) > table:nth-child(3) > tbody:nth-child(1) > tr:nth-child(3) > td:nth-child(2)\").text\n",
    "passengers = int(list(txt.split(\" \"))[0])//10\n",
    "book_button.click()\n",
    "\n",
    "element = WebDriverWait(driver, 30).until(EC.presence_of_element_located((By.CSS_SELECTOR,\"input.form-control:nth-child(4)\")))\n",
    "name = driver.find_element(By.CSS_SELECTOR,\"input#id_username\")\n",
    "passwd = driver.find_element(By.CSS_SELECTOR,\"input#id_password\")\n",
    "name.send_keys(\"pratik\")\n",
    "passwd.send_keys(\"pratik\")\n",
    "button = driver.find_element(By.CSS_SELECTOR,\"input.form-control:nth-child(4)\")\n",
    "button.click()\n",
    "\n",
    "element = WebDriverWait(driver, 30).until(EC.presence_of_element_located((By.CSS_SELECTOR,\"input.form-control:nth-child(3)\")))\n",
    "name = driver.find_element(By.CSS_SELECTOR,\"input#id_n_passenger\")\n",
    "name.send_keys(passengers)\n",
    "button = driver.find_element(By.CSS_SELECTOR,\"input.form-control:nth-child(3)\")\n",
    "button.click()\n",
    "\n",
    "print(\"Expected : Success\")\n",
    "#checking for errors\n",
    "try :\n",
    "    error = driver.find_element(By.CSS_SELECTOR,\"div.main-body-block div.error-block\")\n",
    "    print(\"Got      : Error\")\n",
    "    print(\"Test failed\")\n",
    "except:\n",
    "    print(\"Got      : Success\")\n",
    "    print(\"Test passed\")"
   ]
  },
  {
   "cell_type": "markdown",
   "metadata": {},
   "source": [
    "<h3>Test 8</h3>\n",
    "Conditions : Standard flight booking with passenger overload<br>\n",
    "Expected : Failure"
   ]
  },
  {
   "cell_type": "code",
   "execution_count": 10,
   "metadata": {},
   "outputs": [
    {
     "name": "stdout",
     "output_type": "stream",
     "text": [
      "Expected : Error\n",
      "Got      : Error\n",
      "Test passed\n"
     ]
    }
   ],
   "source": [
    "driver.delete_all_cookies();\n",
    "driver.get(\"http://localhost:8000\")\n",
    "element = WebDriverWait(driver, 30).until(EC.presence_of_element_located((By.CSS_SELECTOR,\"input.form-control:nth-child(4)\")))\n",
    "\n",
    "source = driver.find_element(By.CSS_SELECTOR,\"select#id_source\")\n",
    "destination = driver.find_element(By.CSS_SELECTOR,\"select#id_destination\")\n",
    "button = driver.find_element(By.CSS_SELECTOR,\"input.form-control:nth-child(4)\")\n",
    "source.send_keys(\"pakistan\")\n",
    "destination.send_keys(\"india\")\n",
    "button.click()\n",
    "\n",
    "element = WebDriverWait(driver, 30).until(EC.presence_of_element_located((By.CSS_SELECTOR,\"div.main-body-block div.flight-div a.btn.btn-success\")))\n",
    "book_button = driver.find_element(By.CSS_SELECTOR,\"div.main-body-block div.flight-div a.btn.btn-success\")\n",
    "txt = driver.find_element(By.CSS_SELECTOR,\"div.flight-div:nth-child(1) > table:nth-child(3) > tbody:nth-child(1) > tr:nth-child(3) > td:nth-child(2)\").text\n",
    "passengers = int(list(txt.split(\" \"))[0])+1\n",
    "book_button.click()\n",
    "\n",
    "element = WebDriverWait(driver, 30).until(EC.presence_of_element_located((By.CSS_SELECTOR,\"input.form-control:nth-child(4)\")))\n",
    "name = driver.find_element(By.CSS_SELECTOR,\"input#id_username\")\n",
    "passwd = driver.find_element(By.CSS_SELECTOR,\"input#id_password\")\n",
    "name.send_keys(\"pratik\")\n",
    "passwd.send_keys(\"pratik\")\n",
    "button = driver.find_element(By.CSS_SELECTOR,\"input.form-control:nth-child(4)\")\n",
    "button.click()\n",
    "\n",
    "element = WebDriverWait(driver, 30).until(EC.presence_of_element_located((By.CSS_SELECTOR,\"input.form-control:nth-child(3)\")))\n",
    "name = driver.find_element(By.CSS_SELECTOR,\"input#id_n_passenger\")\n",
    "name.send_keys(passengers)\n",
    "button = driver.find_element(By.CSS_SELECTOR,\"input.form-control:nth-child(3)\")\n",
    "button.click()\n",
    "\n",
    "print(\"Expected : Error\")\n",
    "#checking for exceed warning\n",
    "element = WebDriverWait(driver, 30).until(EC.presence_of_element_located((By.CSS_SELECTOR,\"div.main-body-block\")))\n",
    "txt = driver.find_element(By.CSS_SELECTOR,\"div.main-body-block\").text\n",
    "if txt.strip()==\"Number of bookings exceeds vacancy!\":\n",
    "    print(\"Got      : Error\")\n",
    "    print(\"Test passed\")\n",
    "else:\n",
    "    print(\"Got      : Success\")\n",
    "    print(\"Test failed\")"
   ]
  }
 ],
 "metadata": {
  "kernelspec": {
   "display_name": "Python 3",
   "language": "python",
   "name": "python3"
  },
  "language_info": {
   "codemirror_mode": {
    "name": "ipython",
    "version": 3
   },
   "file_extension": ".py",
   "mimetype": "text/x-python",
   "name": "python",
   "nbconvert_exporter": "python",
   "pygments_lexer": "ipython3",
   "version": "3.8.5"
  }
 },
 "nbformat": 4,
 "nbformat_minor": 4
}

{
 "cells": [
  {
   "cell_type": "code",
   "execution_count": 1,
   "metadata": {},
   "outputs": [],
   "source": [
    "from selenium import webdriver\n",
    "from selenium.webdriver.common.by import By\n",
    "from selenium.webdriver.common.keys import Keys\n",
    "from selenium.webdriver.support.ui import WebDriverWait\n",
    "from selenium.webdriver.support import expected_conditions as EC\n",
    "import time"
   ]
  },
  {
   "cell_type": "code",
   "execution_count": 2,
   "metadata": {},
   "outputs": [],
   "source": [
    "driver =  webdriver.Firefox()\n",
    "#driver  = webdriver.Chrome()"
   ]
  },
  {
   "cell_type": "code",
   "execution_count": 3,
   "metadata": {},
   "outputs": [],
   "source": [
    "n_tests = 8\n",
    "n_passed = 0"
   ]
  },
  {
   "cell_type": "markdown",
   "metadata": {},
   "source": [
    "<h3>Test 1</h3>\n",
    "Conditions : Distinct source and destination<br>\n",
    "Expected : Success"
   ]
  },
  {
   "cell_type": "code",
   "execution_count": 4,
   "metadata": {},
   "outputs": [
    {
     "name": "stdout",
     "output_type": "stream",
     "text": [
      "Press enter to activate test 1 .... \n",
      "\n",
      "\n",
      "Test 1 : Distinct Source Destination Test\n",
      "Input : \n",
      "Source      : india\n",
      "Destination : france\n",
      "Expected : Success\n",
      "Got      : Success\n",
      "Test passed\n",
      "\n",
      "--------------------------------\n",
      "\n"
     ]
    }
   ],
   "source": [
    "print(\"Press enter to activate test 1 .... \")\n",
    "input()\n",
    "print()\n",
    "driver.delete_all_cookies();\n",
    "driver.get(\"http://localhost:8000\")\n",
    "element = WebDriverWait(driver, 30).until(EC.presence_of_element_located((By.CSS_SELECTOR,\"input.form-control:nth-child(4)\")))\n",
    "\n",
    "source = driver.find_element(By.CSS_SELECTOR,\"select#id_source\")\n",
    "destination = driver.find_element(By.CSS_SELECTOR,\"select#id_destination\")\n",
    "button = driver.find_element(By.CSS_SELECTOR,\"input.form-control:nth-child(4)\")\n",
    "source.send_keys(\"india\")\n",
    "destination.send_keys(\"france\")\n",
    "button.click()\n",
    "\n",
    "print(\"Test 1 : Distinct Source Destination Test\")\n",
    "print(\"Input : \")\n",
    "print(\"Source      : india\")\n",
    "print(\"Destination : france\")\n",
    "print(\"Expected : Success\")\n",
    "#checking for errors\n",
    "try :\n",
    "    error = driver.find_element(By.CSS_SELECTOR,\"div.main-body-block div.error-block\")\n",
    "    print(\"Got      : Error\")\n",
    "    print(\"Test failed\")\n",
    "except:\n",
    "    print(\"Got      : Success\")\n",
    "    n_passed += 1\n",
    "    print(\"Test passed\")\n",
    "print(\"\\n--------------------------------\\n\")"
   ]
  },
  {
   "cell_type": "markdown",
   "metadata": {},
   "source": [
    "<h3>Test 2</h3>\n",
    "Conditions : Same source and destination<br>\n",
    "Expected : Faliure"
   ]
  },
  {
   "cell_type": "code",
   "execution_count": 5,
   "metadata": {},
   "outputs": [
    {
     "name": "stdout",
     "output_type": "stream",
     "text": [
      "Press enter to activate test 2 .... \n",
      "\n",
      "\n",
      "Test 2 : Same Source Destination Test\n",
      "Input : \n",
      "Source      : india\n",
      "Destination : india\n",
      "Expected : Error\n",
      "Got      : Error\n",
      "Test passed\n",
      "\n",
      "--------------------------------\n",
      "\n"
     ]
    }
   ],
   "source": [
    "print(\"Press enter to activate test 2 .... \")\n",
    "input()\n",
    "print()\n",
    "driver.delete_all_cookies();\n",
    "driver.get(\"http://localhost:8000\")\n",
    "element = WebDriverWait(driver, 30).until(EC.presence_of_element_located((By.CSS_SELECTOR,\"input.form-control:nth-child(4)\")))\n",
    "\n",
    "source = driver.find_element(By.CSS_SELECTOR,\"select#id_source\")\n",
    "destination = driver.find_element(By.CSS_SELECTOR,\"select#id_destination\")\n",
    "button = driver.find_element(By.CSS_SELECTOR,\"input.form-control:nth-child(4)\")\n",
    "source.send_keys(\"india\")\n",
    "destination.send_keys(\"india\")\n",
    "button.click()\n",
    "\n",
    "print(\"Test 2 : Same Source Destination Test\")\n",
    "print(\"Input : \")\n",
    "print(\"Source      : india\")\n",
    "print(\"Destination : india\")\n",
    "print(\"Expected : Error\")\n",
    "#checking for errors\n",
    "try :\n",
    "    error = driver.find_element(By.CSS_SELECTOR,\"div.main-body-block div.error-block\")\n",
    "    print(\"Got      : Error\")\n",
    "    n_passed += 1\n",
    "    print(\"Test passed\")\n",
    "except:\n",
    "    print(\"Got      : Success\")\n",
    "    print(\"Test failed\")\n",
    "print(\"\\n--------------------------------\\n\")"
   ]
  },
  {
   "cell_type": "markdown",
   "metadata": {},
   "source": [
    "<h3>Test 3</h3>\n",
    "Conditions : Correct Registration<br>\n",
    "Expected : Success"
   ]
  },
  {
   "cell_type": "code",
   "execution_count": 6,
   "metadata": {},
   "outputs": [
    {
     "name": "stdout",
     "output_type": "stream",
     "text": [
      "Press enter to activate test 3 .... \n",
      "\n",
      "\n",
      "Test 3 : Correct Registration Test\n",
      "Input : \n",
      "Username : user881363\n",
      "Password : password\n",
      "Email    : user881363@test.com\n",
      "Expected : Success\n",
      "Got      : Success\n",
      "Test passed\n",
      "\n",
      "--------------------------------\n",
      "\n"
     ]
    }
   ],
   "source": [
    "print(\"Press enter to activate test 3 .... \")\n",
    "input()\n",
    "print()\n",
    "driver.delete_all_cookies();\n",
    "driver.get(\"http://localhost:8000/accounts/register\")\n",
    "\n",
    "name_ = \"user\"+str(time.time())[-6:]\n",
    "pass_ = \"password\"\n",
    "\n",
    "element = WebDriverWait(driver, 30).until(EC.presence_of_element_located((By.CSS_SELECTOR,\"input.form-control:nth-child(5)\")))\n",
    "name = driver.find_element(By.CSS_SELECTOR,\"input#id_username\")\n",
    "passwd = driver.find_element(By.CSS_SELECTOR,\"input#id_password\")\n",
    "email = driver.find_element(By.CSS_SELECTOR,\"input#id_email\")\n",
    "name.send_keys(name_)\n",
    "passwd.send_keys(pass_)\n",
    "email.send_keys(name_+\"@test.com\")\n",
    "button = driver.find_element(By.CSS_SELECTOR,\"input.form-control:nth-child(5)\")\n",
    "button.click()\n",
    "\n",
    "print(\"Test 3 : Correct Registration Test\")\n",
    "print(\"Input : \")\n",
    "print(\"Username :\", name_)\n",
    "print(\"Password :\", pass_)\n",
    "print(\"Email    :\", name_+\"@test.com\")\n",
    "print(\"Expected : Success\")\n",
    "#checking for errors\n",
    "try :\n",
    "    error = driver.find_element(By.CSS_SELECTOR,\"div.main-body-block div.error-block\")\n",
    "    print(\"Got      : Error\")\n",
    "    print(\"Test failed\")\n",
    "except:\n",
    "    print(\"Got      : Success\")\n",
    "    n_passed += 1\n",
    "    print(\"Test passed\")\n",
    "print(\"\\n--------------------------------\\n\")"
   ]
  },
  {
   "cell_type": "markdown",
   "metadata": {},
   "source": [
    "<h3>Test 4</h3>\n",
    "Conditions : Wrong Registration<br>\n",
    "Expected : Error"
   ]
  },
  {
   "cell_type": "code",
   "execution_count": 7,
   "metadata": {},
   "outputs": [
    {
     "name": "stdout",
     "output_type": "stream",
     "text": [
      "Press enter to activate test 4 .... \n",
      "\n",
      "\n",
      "Test 4 : Wrong Registration Test\n",
      "Input : \n",
      "Username : user**678936\n",
      "Password : password\n",
      "Email    : user**678936@test.com\n",
      "Expected : Error\n",
      "Got      : Error\n",
      "Test passed\n",
      "\n",
      "--------------------------------\n",
      "\n"
     ]
    }
   ],
   "source": [
    "print(\"Press enter to activate test 4 .... \")\n",
    "input()\n",
    "print()\n",
    "driver.delete_all_cookies();\n",
    "driver.get(\"http://localhost:8000/accounts/register\")\n",
    "\n",
    "name_ = \"user**\"+str(time.time())[-6:]\n",
    "pass_ = \"password\"\n",
    "\n",
    "element = WebDriverWait(driver, 30).until(EC.presence_of_element_located((By.CSS_SELECTOR,\"input.form-control:nth-child(5)\")))\n",
    "name = driver.find_element(By.CSS_SELECTOR,\"input#id_username\")\n",
    "passwd = driver.find_element(By.CSS_SELECTOR,\"input#id_password\")\n",
    "email = driver.find_element(By.CSS_SELECTOR,\"input#id_email\")\n",
    "name.send_keys(name_)\n",
    "passwd.send_keys(pass_)\n",
    "email.send_keys(name_+\"@test.com\")\n",
    "button = driver.find_element(By.CSS_SELECTOR,\"input.form-control:nth-child(5)\")\n",
    "button.click()\n",
    "\n",
    "print(\"Test 4 : Wrong Registration Test\")\n",
    "print(\"Input : \")\n",
    "print(\"Username :\", name_)\n",
    "print(\"Password :\", pass_)\n",
    "print(\"Email    :\", name_+\"@test.com\")\n",
    "print(\"Expected : Error\")\n",
    "#checking for errors\n",
    "try :\n",
    "    error = driver.find_element(By.CSS_SELECTOR,\"div.main-body-block div.error-block\")\n",
    "    print(\"Got      : Error\")\n",
    "    n_passed += 1\n",
    "    print(\"Test passed\")\n",
    "except:\n",
    "    print(\"Got      : Success\")\n",
    "    print(\"Test failed\")\n",
    "print(\"\\n--------------------------------\\n\")"
   ]
  },
  {
   "cell_type": "markdown",
   "metadata": {},
   "source": [
    "<h3>Test 5</h3>\n",
    "Conditions : Correct Login<br>\n",
    "Expected : Success"
   ]
  },
  {
   "cell_type": "code",
   "execution_count": 8,
   "metadata": {},
   "outputs": [
    {
     "name": "stdout",
     "output_type": "stream",
     "text": [
      "Press enter to activate test 5 .... \n",
      "\n",
      "\n",
      "Test 5 : Correct Login Test\n",
      "Input : \n",
      "Username : pratik\n",
      "Password : pratik\n",
      "Expected : Success\n",
      "Got      : Success\n",
      "Test passed\n",
      "\n",
      "--------------------------------\n",
      "\n"
     ]
    }
   ],
   "source": [
    "print(\"Press enter to activate test 5 .... \")\n",
    "input()\n",
    "print()\n",
    "driver.delete_all_cookies();\n",
    "driver.get(\"http://localhost:8000/accounts/login\")\n",
    "\n",
    "element = WebDriverWait(driver, 30).until(EC.presence_of_element_located((By.CSS_SELECTOR,\"input.form-control:nth-child(4)\")))\n",
    "name = driver.find_element(By.CSS_SELECTOR,\"input#id_username\")\n",
    "passwd = driver.find_element(By.CSS_SELECTOR,\"input#id_password\")\n",
    "name.send_keys(\"pratik\")\n",
    "passwd.send_keys(\"pratik\")\n",
    "button = driver.find_element(By.CSS_SELECTOR,\"input.form-control:nth-child(4)\")\n",
    "button.click()\n",
    "\n",
    "print(\"Test 5 : Correct Login Test\")\n",
    "print(\"Input : \")\n",
    "print(\"Username : pratik\")\n",
    "print(\"Password : pratik\")\n",
    "print(\"Expected : Success\")\n",
    "#checking for errors\n",
    "try :\n",
    "    error = driver.find_element(By.CSS_SELECTOR,\"div.main-body-block div.error-block\")\n",
    "    print(\"Got      : Error\")\n",
    "    print(\"Test failed\")\n",
    "except:\n",
    "    print(\"Got      : Success\")\n",
    "    n_passed += 1\n",
    "    print(\"Test passed\")\n",
    "print(\"\\n--------------------------------\\n\")"
   ]
  },
  {
   "cell_type": "markdown",
   "metadata": {},
   "source": [
    "<h3>Test 6</h3>\n",
    "Conditions : False Login<br>\n",
    "Expected : Error"
   ]
  },
  {
   "cell_type": "code",
   "execution_count": 9,
   "metadata": {},
   "outputs": [
    {
     "name": "stdout",
     "output_type": "stream",
     "text": [
      "Press enter to activate test 6 .... \n",
      "\n",
      "\n",
      "Test 6 : Wrong Login Test\n",
      "Input : \n",
      "Username : pratik\n",
      "Password : wrong_pass\n",
      "Expected : Success\n",
      "Expected : Error\n",
      "Got      : Error\n",
      "Test passed\n",
      "\n",
      "--------------------------------\n",
      "\n"
     ]
    }
   ],
   "source": [
    "print(\"Press enter to activate test 6 .... \")\n",
    "input()\n",
    "print()\n",
    "driver.delete_all_cookies();\n",
    "driver.get(\"http://localhost:8000/accounts/login\")\n",
    "\n",
    "element = WebDriverWait(driver, 30).until(EC.presence_of_element_located((By.CSS_SELECTOR,\"input.form-control:nth-child(4)\")))\n",
    "name = driver.find_element(By.CSS_SELECTOR,\"input#id_username\")\n",
    "passwd = driver.find_element(By.CSS_SELECTOR,\"input#id_password\")\n",
    "name.send_keys(\"pratik\")\n",
    "passwd.send_keys(\"wrong_pass\")\n",
    "button = driver.find_element(By.CSS_SELECTOR,\"input.form-control:nth-child(4)\")\n",
    "button.click()\n",
    "\n",
    "print(\"Test 6 : Wrong Login Test\")\n",
    "print(\"Input : \")\n",
    "print(\"Username : pratik\")\n",
    "print(\"Password : wrong_pass\")\n",
    "print(\"Expected : Success\")\n",
    "print(\"Expected : Error\")\n",
    "#checking for errors\n",
    "try :\n",
    "    error = driver.find_element(By.CSS_SELECTOR,\"div.main-body-block div.error-block\")\n",
    "    print(\"Got      : Error\")\n",
    "    n_passed += 1\n",
    "    print(\"Test passed\")\n",
    "except:\n",
    "    print(\"Got      : Success\")\n",
    "    print(\"Test failed\")\n",
    "print(\"\\n--------------------------------\\n\")"
   ]
  },
  {
   "cell_type": "markdown",
   "metadata": {},
   "source": [
    "<h3>Test 7</h3>\n",
    "Conditions : Standard flight booking<br>\n",
    "Expected : Success"
   ]
  },
  {
   "cell_type": "code",
   "execution_count": 10,
   "metadata": {},
   "outputs": [
    {
     "name": "stdout",
     "output_type": "stream",
     "text": [
      "Press enter to activate test 7 .... \n",
      "\n",
      "\n",
      "Test 7 : Correct Booking Test\n",
      "Input : Booking tickets for passengers not exceeding the vacancy of flight\n",
      "Expected : Success\n",
      "Got      : Success\n",
      "Test passed\n",
      "\n",
      "--------------------------------\n",
      "\n"
     ]
    }
   ],
   "source": [
    "print(\"Press enter to activate test 7 .... \")\n",
    "input()\n",
    "print()\n",
    "driver.delete_all_cookies();\n",
    "driver.get(\"http://localhost:8000\")\n",
    "element = WebDriverWait(driver, 30).until(EC.presence_of_element_located((By.CSS_SELECTOR,\"input.form-control:nth-child(4)\")))\n",
    "\n",
    "source = driver.find_element(By.CSS_SELECTOR,\"select#id_source\")\n",
    "destination = driver.find_element(By.CSS_SELECTOR,\"select#id_destination\")\n",
    "button = driver.find_element(By.CSS_SELECTOR,\"input.form-control:nth-child(4)\")\n",
    "source.send_keys(\"pakistan\")\n",
    "destination.send_keys(\"india\")\n",
    "button.click()\n",
    "\n",
    "element = WebDriverWait(driver, 30).until(EC.presence_of_element_located((By.CSS_SELECTOR,\"div.main-body-block div.flight-div a.btn.btn-success\")))\n",
    "book_button = driver.find_element(By.CSS_SELECTOR,\"div.main-body-block div.flight-div a.btn.btn-success\")\n",
    "txt = driver.find_element(By.CSS_SELECTOR,\"div.flight-div:nth-child(1) > table:nth-child(3) > tbody:nth-child(1) > tr:nth-child(3) > td:nth-child(2)\").text\n",
    "passengers = int(list(txt.split(\" \"))[0])//10\n",
    "book_button.click()\n",
    "\n",
    "element = WebDriverWait(driver, 30).until(EC.presence_of_element_located((By.CSS_SELECTOR,\"input.form-control:nth-child(4)\")))\n",
    "name = driver.find_element(By.CSS_SELECTOR,\"input#id_username\")\n",
    "passwd = driver.find_element(By.CSS_SELECTOR,\"input#id_password\")\n",
    "name.send_keys(\"pratik\")\n",
    "passwd.send_keys(\"pratik\")\n",
    "button = driver.find_element(By.CSS_SELECTOR,\"input.form-control:nth-child(4)\")\n",
    "button.click()\n",
    "\n",
    "element = WebDriverWait(driver, 30).until(EC.presence_of_element_located((By.CSS_SELECTOR,\"input.form-control:nth-child(3)\")))\n",
    "name = driver.find_element(By.CSS_SELECTOR,\"input#id_n_passenger\")\n",
    "name.send_keys(passengers)\n",
    "button = driver.find_element(By.CSS_SELECTOR,\"input.form-control:nth-child(3)\")\n",
    "button.click()\n",
    "\n",
    "print(\"Test 7 : Correct Booking Test\")\n",
    "print(\"Input : Booking tickets for passengers not exceeding the vacancy of flight\")\n",
    "print(\"Expected : Success\")\n",
    "#checking for errors\n",
    "try :\n",
    "    error = driver.find_element(By.CSS_SELECTOR,\"div.main-body-block div.error-block\")\n",
    "    print(\"Got      : Error\")\n",
    "    print(\"Test failed\")\n",
    "except:\n",
    "    print(\"Got      : Success\")\n",
    "    n_passed += 1\n",
    "    print(\"Test passed\")\n",
    "print(\"\\n--------------------------------\\n\")"
   ]
  },
  {
   "cell_type": "markdown",
   "metadata": {},
   "source": [
    "<h3>Test 8</h3>\n",
    "Conditions : Standard flight booking with passenger overload<br>\n",
    "Expected : Failure"
   ]
  },
  {
   "cell_type": "code",
   "execution_count": 11,
   "metadata": {},
   "outputs": [
    {
     "name": "stdout",
     "output_type": "stream",
     "text": [
      "Press enter to activate test 8 .... \n",
      "\n",
      "\n",
      "Test 7 : Incorrect Booking Test\n",
      "Input : Booking tickets for passengers exceeding the vacancy of flight\n",
      "Expected : Error\n",
      "Got      : Error\n",
      "Test passed\n",
      "\n",
      "--------------------------------\n",
      "\n"
     ]
    }
   ],
   "source": [
    "print(\"Press enter to activate test 8 .... \")\n",
    "input()\n",
    "print()\n",
    "driver.delete_all_cookies();\n",
    "driver.get(\"http://localhost:8000\")\n",
    "element = WebDriverWait(driver, 30).until(EC.presence_of_element_located((By.CSS_SELECTOR,\"input.form-control:nth-child(4)\")))\n",
    "\n",
    "source = driver.find_element(By.CSS_SELECTOR,\"select#id_source\")\n",
    "destination = driver.find_element(By.CSS_SELECTOR,\"select#id_destination\")\n",
    "button = driver.find_element(By.CSS_SELECTOR,\"input.form-control:nth-child(4)\")\n",
    "source.send_keys(\"pakistan\")\n",
    "destination.send_keys(\"india\")\n",
    "button.click()\n",
    "\n",
    "element = WebDriverWait(driver, 30).until(EC.presence_of_element_located((By.CSS_SELECTOR,\"div.main-body-block div.flight-div a.btn.btn-success\")))\n",
    "book_button = driver.find_element(By.CSS_SELECTOR,\"div.main-body-block div.flight-div a.btn.btn-success\")\n",
    "txt = driver.find_element(By.CSS_SELECTOR,\"div.flight-div:nth-child(1) > table:nth-child(3) > tbody:nth-child(1) > tr:nth-child(3) > td:nth-child(2)\").text\n",
    "passengers = int(list(txt.split(\" \"))[0])+1\n",
    "book_button.click()\n",
    "\n",
    "element = WebDriverWait(driver, 30).until(EC.presence_of_element_located((By.CSS_SELECTOR,\"input.form-control:nth-child(4)\")))\n",
    "name = driver.find_element(By.CSS_SELECTOR,\"input#id_username\")\n",
    "passwd = driver.find_element(By.CSS_SELECTOR,\"input#id_password\")\n",
    "name.send_keys(\"pratik\")\n",
    "passwd.send_keys(\"pratik\")\n",
    "button = driver.find_element(By.CSS_SELECTOR,\"input.form-control:nth-child(4)\")\n",
    "button.click()\n",
    "\n",
    "element = WebDriverWait(driver, 30).until(EC.presence_of_element_located((By.CSS_SELECTOR,\"input.form-control:nth-child(3)\")))\n",
    "name = driver.find_element(By.CSS_SELECTOR,\"input#id_n_passenger\")\n",
    "name.send_keys(passengers)\n",
    "button = driver.find_element(By.CSS_SELECTOR,\"input.form-control:nth-child(3)\")\n",
    "button.click()\n",
    "\n",
    "print(\"Test 7 : Incorrect Booking Test\")\n",
    "print(\"Input : Booking tickets for passengers exceeding the vacancy of flight\")\n",
    "print(\"Expected : Error\")\n",
    "#checking for exceed warning\n",
    "element = WebDriverWait(driver, 30).until(EC.presence_of_element_located((By.CSS_SELECTOR,\"div.main-body-block\")))\n",
    "txt = driver.find_element(By.CSS_SELECTOR,\"div.main-body-block\").text\n",
    "if txt.strip()==\"Number of bookings exceeds vacancy!\":\n",
    "    print(\"Got      : Error\")\n",
    "    n_passed += 1\n",
    "    print(\"Test passed\")\n",
    "else:\n",
    "    print(\"Got      : Success\")\n",
    "    print(\"Test failed\")\n",
    "print(\"\\n--------------------------------\\n\")"
   ]
  },
  {
   "cell_type": "code",
   "execution_count": 12,
   "metadata": {},
   "outputs": [
    {
     "name": "stdout",
     "output_type": "stream",
     "text": [
      "8 tests passed out of 8\n"
     ]
    }
   ],
   "source": [
    "print(n_passed,\"tests passed out of\",n_tests)"
   ]
  }
 ],
 "metadata": {
  "kernelspec": {
   "display_name": "Python 3",
   "language": "python",
   "name": "python3"
  },
  "language_info": {
   "codemirror_mode": {
    "name": "ipython",
    "version": 3
   },
   "file_extension": ".py",
   "mimetype": "text/x-python",
   "name": "python",
   "nbconvert_exporter": "python",
   "pygments_lexer": "ipython3",
   "version": "3.8.5"
  }
 },
 "nbformat": 4,
 "nbformat_minor": 4
}
